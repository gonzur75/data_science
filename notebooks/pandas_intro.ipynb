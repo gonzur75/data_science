{
 "cells": [
  {
   "metadata": {
    "ExecuteTime": {
     "end_time": "2025-03-01T13:05:03.301271Z",
     "start_time": "2025-03-01T13:05:01.294555Z"
    }
   },
   "cell_type": "code",
   "source": [
    "import io\n",
    "import os\n",
    "import pandas as pd\n",
    "import numpy as np\n",
    "import matplotlib.pyplot as plt\n",
    "\n",
    "from src import timed"
   ],
   "id": "5225141098f207ce",
   "outputs": [],
   "execution_count": 2
  },
  {
   "metadata": {},
   "cell_type": "markdown",
   "source": "",
   "id": "1ac000d4370568dc"
  },
  {
   "metadata": {
    "ExecuteTime": {
     "end_time": "2025-03-01T10:31:04.766920Z",
     "start_time": "2025-03-01T10:31:04.756735Z"
    }
   },
   "cell_type": "code",
   "source": [
    "buffer = io.StringIO('''\n",
    "product,quantity,price\n",
    "apple,10,0.5\n",
    "banana,5,0.3\n",
    "apple,4,0.5\n",
    "banana,7,0.3\n",
    "orange,8,0.7\n",
    "'''.lstrip())"
   ],
   "id": "c240a30256aaa50a",
   "outputs": [],
   "execution_count": 14
  },
  {
   "metadata": {
    "ExecuteTime": {
     "end_time": "2025-03-01T10:19:38.000805Z",
     "start_time": "2025-03-01T10:19:37.975785Z"
    }
   },
   "cell_type": "code",
   "source": "buffer",
   "id": "b9b581a277a2b174",
   "outputs": [
    {
     "data": {
      "text/plain": [
       "<_io.StringIO at 0x7ba90412f1c0>"
      ]
     },
     "execution_count": 3,
     "metadata": {},
     "output_type": "execute_result"
    }
   ],
   "execution_count": 3
  },
  {
   "metadata": {},
   "cell_type": "code",
   "outputs": [],
   "execution_count": null,
   "source": [
    "# brodcasting\n",
    "\n",
    "#regular python\n",
    "x = [1, 2, 3, 4, 5]\n",
    "x * 3\n",
    "\n",
    "# numpay array\n",
    "\n",
    "arr = np.array([1,2,3,4,5])\n",
    "arr * 3\n",
    "np.array([1,2,3,4,5]) * np.array([1,2,3,4,5])"
   ],
   "id": "f55a28ec3c630f33"
  },
  {
   "metadata": {},
   "cell_type": "markdown",
   "source": "#### What product has the highest revenue(quantity * price)?",
   "id": "3097d5533a193e10"
  },
  {
   "metadata": {
    "ExecuteTime": {
     "end_time": "2025-03-01T10:34:53.047376Z",
     "start_time": "2025-03-01T10:34:53.034474Z"
    }
   },
   "cell_type": "code",
   "source": [
    "from csv import DictReader, reader\n",
    "from collections import defaultdict, Counter\n",
    "\n",
    "product_revenues = defaultdict(int)\n",
    "\n",
    "buffer = io.StringIO('''\n",
    "product,quantity,price\n",
    "apple,10,0.5\n",
    "banana,5,0.3\n",
    "apple,4,0.5\n",
    "banana,7,0.3\n",
    "orange,8,0.7\n",
    "'''.lstrip())\n",
    "product_count = Counter()"
   ],
   "id": "e156d82bcd13b289",
   "outputs": [],
   "execution_count": 19
  },
  {
   "metadata": {
    "ExecuteTime": {
     "end_time": "2025-03-01T10:34:55.413727Z",
     "start_time": "2025-03-01T10:34:55.403440Z"
    }
   },
   "cell_type": "code",
   "source": [
    "for row in DictReader(buffer):\n",
    "    product_revenues[row[\"product\"]] += (float(row[\"quantity\"]) * float(row[\"price\"]))\n",
    "    product_count[row[\"product\"]] += 1"
   ],
   "id": "aa781c11b944b708",
   "outputs": [],
   "execution_count": 20
  },
  {
   "metadata": {
    "ExecuteTime": {
     "end_time": "2025-03-01T10:31:23.145984Z",
     "start_time": "2025-03-01T10:31:23.132176Z"
    }
   },
   "cell_type": "code",
   "source": "Counter(product_revenues).most_common(1)\n",
   "id": "ee69e089b4629aea",
   "outputs": [
    {
     "data": {
      "text/plain": [
       "[('apple', 7.0)]"
      ]
     },
     "execution_count": 18,
     "metadata": {},
     "output_type": "execute_result"
    }
   ],
   "execution_count": 18
  },
  {
   "metadata": {},
   "cell_type": "markdown",
   "source": "#### How often does each product appear?",
   "id": "40363679c8294f0e"
  },
  {
   "metadata": {
    "ExecuteTime": {
     "end_time": "2025-03-01T10:48:21.579900Z",
     "start_time": "2025-03-01T10:48:21.566021Z"
    }
   },
   "cell_type": "code",
   "source": "product_count",
   "id": "a6fbfc1f69a4d864",
   "outputs": [
    {
     "data": {
      "text/plain": [
       "Counter({'apple': 2, 'banana': 2, 'orange': 1})"
      ]
     },
     "execution_count": 24,
     "metadata": {},
     "output_type": "execute_result"
    }
   ],
   "execution_count": 24
  },
  {
   "metadata": {
    "ExecuteTime": {
     "end_time": "2025-03-01T11:12:06.238734Z",
     "start_time": "2025-03-01T11:12:06.188276Z"
    }
   },
   "cell_type": "code",
   "source": [
    "buffer = io.StringIO('''\n",
    "product,quantity,price\n",
    "apple,10,0.5\n",
    "banana,5,0.3\n",
    "apple,4,0.5\n",
    "banana,7,0.3\n",
    "orange,8,0.7\n",
    "'''.lstrip())\n",
    "\n",
    "df = pd.read_csv(buffer)\n",
    "\n",
    "# df[\"quantity\"] * df[\"price\"]\n",
    "# df.groupby(\"product\")[\"quantity\"].sum()\n",
    "df[\"revenue\"] = df[\"quantity\"] * df[\"price\"]\n",
    "product_revenues_ = df.groupby(\"product\")[\"revenue\"].sum()\n",
    "# idx przy grupby są nazwami grup\n",
    "# type(product_revenues_) # Series\n",
    "print(f'Product: {product_revenues_.idxmax()}, {product_revenues_[product_revenues_.idxmax()]}')\n",
    "print(f\"Frequency: {df.groupby(['product'])[\"product\"].count()}\")"
   ],
   "id": "8eab6ca2c8f25b3e",
   "outputs": [
    {
     "name": "stdout",
     "output_type": "stream",
     "text": [
      "Product: apple, 7.0\n",
      "Frequency: product\n",
      "apple     2\n",
      "banana    2\n",
      "orange    1\n",
      "Name: product, dtype: int64\n"
     ]
    }
   ],
   "execution_count": 48
  },
  {
   "metadata": {
    "ExecuteTime": {
     "end_time": "2025-03-01T10:59:26.044364Z",
     "start_time": "2025-03-01T10:59:26.012852Z"
    }
   },
   "cell_type": "code",
   "source": "df",
   "id": "c9bd205a10925db0",
   "outputs": [
    {
     "data": {
      "text/plain": [
       "  product  quantity  price  revenue\n",
       "0   apple        10    0.5      5.0\n",
       "1  banana         5    0.3      1.5\n",
       "2   apple         4    0.5      2.0\n",
       "3  banana         7    0.3      2.1\n",
       "4  orange         8    0.7      5.6"
      ],
      "text/html": [
       "<div>\n",
       "<style scoped>\n",
       "    .dataframe tbody tr th:only-of-type {\n",
       "        vertical-align: middle;\n",
       "    }\n",
       "\n",
       "    .dataframe tbody tr th {\n",
       "        vertical-align: top;\n",
       "    }\n",
       "\n",
       "    .dataframe thead th {\n",
       "        text-align: right;\n",
       "    }\n",
       "</style>\n",
       "<table border=\"1\" class=\"dataframe\">\n",
       "  <thead>\n",
       "    <tr style=\"text-align: right;\">\n",
       "      <th></th>\n",
       "      <th>product</th>\n",
       "      <th>quantity</th>\n",
       "      <th>price</th>\n",
       "      <th>revenue</th>\n",
       "    </tr>\n",
       "  </thead>\n",
       "  <tbody>\n",
       "    <tr>\n",
       "      <th>0</th>\n",
       "      <td>apple</td>\n",
       "      <td>10</td>\n",
       "      <td>0.5</td>\n",
       "      <td>5.0</td>\n",
       "    </tr>\n",
       "    <tr>\n",
       "      <th>1</th>\n",
       "      <td>banana</td>\n",
       "      <td>5</td>\n",
       "      <td>0.3</td>\n",
       "      <td>1.5</td>\n",
       "    </tr>\n",
       "    <tr>\n",
       "      <th>2</th>\n",
       "      <td>apple</td>\n",
       "      <td>4</td>\n",
       "      <td>0.5</td>\n",
       "      <td>2.0</td>\n",
       "    </tr>\n",
       "    <tr>\n",
       "      <th>3</th>\n",
       "      <td>banana</td>\n",
       "      <td>7</td>\n",
       "      <td>0.3</td>\n",
       "      <td>2.1</td>\n",
       "    </tr>\n",
       "    <tr>\n",
       "      <th>4</th>\n",
       "      <td>orange</td>\n",
       "      <td>8</td>\n",
       "      <td>0.7</td>\n",
       "      <td>5.6</td>\n",
       "    </tr>\n",
       "  </tbody>\n",
       "</table>\n",
       "</div>"
      ]
     },
     "execution_count": 37,
     "metadata": {},
     "output_type": "execute_result"
    }
   ],
   "execution_count": 37
  },
  {
   "metadata": {},
   "cell_type": "markdown",
   "source": [
    "\n",
    "##Data Types"
   ],
   "id": "781eeb808264c622"
  },
  {
   "metadata": {
    "ExecuteTime": {
     "end_time": "2025-03-01T13:08:57.615372Z",
     "start_time": "2025-03-01T13:08:57.571919Z"
    }
   },
   "cell_type": "code",
   "source": [
    "from sys import getsizeof\n",
    "\n",
    "class T:\n",
    "    pass\n",
    "\n",
    "xs = [1 for _ in range(10_000)]\n",
    "x = [T() for _ in range(10_000)]\n",
    "\n",
    "print(sum(getsizeof(x_item) for x_item in x) /1024 /1024, sum(getsizeof(x_item) for x_item in xs) /1024 /1024)\n",
    "print(pd.Series(xs).memory_usage(deep=True) / 1024 / 1024, sep=\"\\n\")"
   ],
   "id": "8607a9980e10b8fe",
   "outputs": [
    {
     "name": "stdout",
     "output_type": "stream",
     "text": [
      "0.457763671875 0.26702880859375\n",
      "0.07641983032226562\n"
     ]
    }
   ],
   "execution_count": 9
  },
  {
   "metadata": {
    "ExecuteTime": {
     "end_time": "2025-03-01T13:08:59.443019Z",
     "start_time": "2025-03-01T13:08:59.416496Z"
    }
   },
   "cell_type": "code",
   "source": [
    "from numpy.random import default_rng\n",
    "\n",
    "rng = default_rng(42)\n",
    "np_xs = rng.normal(0, 10, size=10_000)\n",
    "py_xs = np_xs.tolist()\n",
    "\n",
    "with timed(\"python list.append\"):\n",
    "    for _ in range(10_000):\n",
    "        py_xs.append(1)\n",
    "\n",
    "with timed(\"python numpy.concatenate\"):\n",
    "    add_elements = []\n",
    "    for _ in range(10_000):\n",
    "        add_elements.append(1)\n",
    "\n",
    "    np_xs = np.concatenate((np_xs, add_elements))"
   ],
   "id": "c845b574b7a06d7c",
   "outputs": [
    {
     "name": "stdout",
     "output_type": "stream",
     "text": [
      "python list.append took 0.003888 seconds\n",
      "python numpy.concatenate took 0.005261 seconds\n"
     ]
    }
   ],
   "execution_count": 10
  },
  {
   "metadata": {
    "ExecuteTime": {
     "end_time": "2025-03-01T13:14:51.911291Z",
     "start_time": "2025-03-01T13:14:51.868904Z"
    }
   },
   "cell_type": "code",
   "source": [
    "df = pd.DataFrame({\n",
    "    \"bool\": [True, False, True],\n",
    "    \"int\": [1, 2, 3],\n",
    "    \"float\": [1.1, 2.2, 3.3],\n",
    "    'string': ['a', 'b', 'c'],\n",
    "    \"datetime\": pd.date_range(\"2021-01-01\", periods=3, freq=\"D\"),\n",
    "    \"timedelta\": pd.timedelta_range('1 day', periods=3),\n",
    "    'categorical': pd.Categorical(['a', 'b', 'c']),\n",
    "})\n",
    "df\n"
   ],
   "id": "9985b348735d4787",
   "outputs": [
    {
     "data": {
      "text/plain": [
       "    bool  int  float string   datetime timedelta categorical\n",
       "0   True    1    1.1      a 2021-01-01    1 days           a\n",
       "1  False    2    2.2      b 2021-01-02    2 days           b\n",
       "2   True    3    3.3      c 2021-01-03    3 days           c"
      ],
      "text/html": [
       "<div>\n",
       "<style scoped>\n",
       "    .dataframe tbody tr th:only-of-type {\n",
       "        vertical-align: middle;\n",
       "    }\n",
       "\n",
       "    .dataframe tbody tr th {\n",
       "        vertical-align: top;\n",
       "    }\n",
       "\n",
       "    .dataframe thead th {\n",
       "        text-align: right;\n",
       "    }\n",
       "</style>\n",
       "<table border=\"1\" class=\"dataframe\">\n",
       "  <thead>\n",
       "    <tr style=\"text-align: right;\">\n",
       "      <th></th>\n",
       "      <th>bool</th>\n",
       "      <th>int</th>\n",
       "      <th>float</th>\n",
       "      <th>string</th>\n",
       "      <th>datetime</th>\n",
       "      <th>timedelta</th>\n",
       "      <th>categorical</th>\n",
       "    </tr>\n",
       "  </thead>\n",
       "  <tbody>\n",
       "    <tr>\n",
       "      <th>0</th>\n",
       "      <td>True</td>\n",
       "      <td>1</td>\n",
       "      <td>1.1</td>\n",
       "      <td>a</td>\n",
       "      <td>2021-01-01</td>\n",
       "      <td>1 days</td>\n",
       "      <td>a</td>\n",
       "    </tr>\n",
       "    <tr>\n",
       "      <th>1</th>\n",
       "      <td>False</td>\n",
       "      <td>2</td>\n",
       "      <td>2.2</td>\n",
       "      <td>b</td>\n",
       "      <td>2021-01-02</td>\n",
       "      <td>2 days</td>\n",
       "      <td>b</td>\n",
       "    </tr>\n",
       "    <tr>\n",
       "      <th>2</th>\n",
       "      <td>True</td>\n",
       "      <td>3</td>\n",
       "      <td>3.3</td>\n",
       "      <td>c</td>\n",
       "      <td>2021-01-03</td>\n",
       "      <td>3 days</td>\n",
       "      <td>c</td>\n",
       "    </tr>\n",
       "  </tbody>\n",
       "</table>\n",
       "</div>"
      ]
     },
     "execution_count": 16,
     "metadata": {},
     "output_type": "execute_result"
    }
   ],
   "execution_count": 16
  },
  {
   "metadata": {
    "ExecuteTime": {
     "end_time": "2025-03-01T13:09:05.148988Z",
     "start_time": "2025-03-01T13:09:05.135058Z"
    }
   },
   "cell_type": "code",
   "source": "df.dtypes\n",
   "id": "4f9aaa739b28b8d8",
   "outputs": [
    {
     "data": {
      "text/plain": [
       "bool                      bool\n",
       "int                      int64\n",
       "float                  float64\n",
       "string                  object\n",
       "datetime        datetime64[ns]\n",
       "timedelta      timedelta64[ns]\n",
       "categorical           category\n",
       "object                  object\n",
       "dtype: object"
      ]
     },
     "execution_count": 12,
     "metadata": {},
     "output_type": "execute_result"
    }
   ],
   "execution_count": 12
  },
  {
   "metadata": {
    "ExecuteTime": {
     "end_time": "2025-03-01T13:05:11.191584Z",
     "start_time": "2025-03-01T13:05:11.135362Z"
    }
   },
   "cell_type": "code",
   "source": "x = pd.Series([1, 2, 3, 4, 5, 'yolo'], dtype='string[pyarrow]')\n",
   "id": "1ccb3ca807a2f5ac",
   "outputs": [],
   "execution_count": 3
  },
  {
   "metadata": {
    "ExecuteTime": {
     "end_time": "2025-03-01T13:06:01.236156Z",
     "start_time": "2025-03-01T13:06:01.210907Z"
    }
   },
   "cell_type": "code",
   "source": "x.dtypes",
   "id": "db8f655541d07c33",
   "outputs": [
    {
     "data": {
      "text/plain": [
       "string[pyarrow]"
      ]
     },
     "execution_count": 4,
     "metadata": {},
     "output_type": "execute_result"
    }
   ],
   "execution_count": 4
  },
  {
   "metadata": {
    "ExecuteTime": {
     "end_time": "2025-03-01T13:18:24.729547Z",
     "start_time": "2025-03-01T13:18:24.700647Z"
    }
   },
   "cell_type": "code",
   "source": [
    "df.to_csv(\"data.csv\") # klasyczna metod zrzucania na dysk\n",
    "df.to_parquet(\"file.parquet\") # zrzucanie do pliku parquet, bardziej koszerne\n",
    "os.path.getsize(\"data.csv\"), os.path.getsize(\"file.parquet\")\n"
   ],
   "id": "a09126b47291d5a",
   "outputs": [
    {
     "data": {
      "text/plain": [
       "(160, 4867)"
      ]
     },
     "execution_count": 31,
     "metadata": {},
     "output_type": "execute_result"
    }
   ],
   "execution_count": 31
  },
  {
   "metadata": {
    "ExecuteTime": {
     "end_time": "2025-03-01T13:31:50.058721Z",
     "start_time": "2025-03-01T13:31:50.038453Z"
    }
   },
   "cell_type": "code",
   "source": [
    "s1 = pd.Series([ 1,  2,  3,  4], index=['a', 'b', 'c', 'd'])\n",
    "s2 = pd.Series([10, 20, 30, 40], index=[     'b',      'd', 'e', 'f'])\n",
    "s1\n"
   ],
   "id": "8fca34c269000901",
   "outputs": [
    {
     "data": {
      "text/plain": [
       "a    1\n",
       "b    2\n",
       "c    3\n",
       "d    4\n",
       "dtype: int64"
      ]
     },
     "execution_count": 40,
     "metadata": {},
     "output_type": "execute_result"
    }
   ],
   "execution_count": 40
  },
  {
   "metadata": {
    "ExecuteTime": {
     "end_time": "2025-03-01T13:33:52.922299Z",
     "start_time": "2025-03-01T13:33:52.901549Z"
    }
   },
   "cell_type": "code",
   "source": "s1.reindex([\"a\", \"b\", \"c\", \"d\", \"e\", \"f\"])",
   "id": "71f4ef5f8579d405",
   "outputs": [
    {
     "data": {
      "text/plain": [
       "a    1.0\n",
       "b    2.0\n",
       "c    3.0\n",
       "d    4.0\n",
       "e    NaN\n",
       "f    NaN\n",
       "dtype: float64"
      ]
     },
     "execution_count": 44,
     "metadata": {},
     "output_type": "execute_result"
    }
   ],
   "execution_count": 44
  },
  {
   "metadata": {
    "ExecuteTime": {
     "end_time": "2025-03-01T13:38:28.793282Z",
     "start_time": "2025-03-01T13:38:28.777338Z"
    }
   },
   "cell_type": "code",
   "source": "s2.reindex(set(list(s1.index) + list(s2.index))).fillna(0)\n",
   "id": "84da1f1eea6dbee4",
   "outputs": [
    {
     "data": {
      "text/plain": [
       "e    30.0\n",
       "f    40.0\n",
       "c     0.0\n",
       "d    20.0\n",
       "b    10.0\n",
       "a     0.0\n",
       "dtype: float64"
      ]
     },
     "execution_count": 48,
     "metadata": {},
     "output_type": "execute_result"
    }
   ],
   "execution_count": 48
  },
  {
   "metadata": {
    "ExecuteTime": {
     "end_time": "2025-03-01T13:28:52.607103Z",
     "start_time": "2025-03-01T13:28:52.589324Z"
    }
   },
   "cell_type": "code",
   "source": "s1 + s2",
   "id": "890dba480af2083b",
   "outputs": [
    {
     "data": {
      "text/plain": [
       "a     NaN\n",
       "b    12.0\n",
       "c     NaN\n",
       "d    24.0\n",
       "e     NaN\n",
       "f     NaN\n",
       "dtype: float64"
      ]
     },
     "execution_count": 35,
     "metadata": {},
     "output_type": "execute_result"
    }
   ],
   "execution_count": 35
  },
  {
   "metadata": {
    "ExecuteTime": {
     "end_time": "2025-03-01T13:31:11.955766Z",
     "start_time": "2025-03-01T13:31:11.942934Z"
    }
   },
   "cell_type": "code",
   "source": "s1.index",
   "id": "a483fe68c57c548a",
   "outputs": [
    {
     "data": {
      "text/plain": [
       "Index(['a', 'b', 'c', 'd'], dtype='object')"
      ]
     },
     "execution_count": 38,
     "metadata": {},
     "output_type": "execute_result"
    }
   ],
   "execution_count": 38
  },
  {
   "metadata": {},
   "cell_type": "code",
   "outputs": [],
   "execution_count": null,
   "source": "s1.",
   "id": "e695f2547042a63e"
  },
  {
   "metadata": {
    "ExecuteTime": {
     "end_time": "2025-03-01T13:31:17.774589Z",
     "start_time": "2025-03-01T13:31:17.763576Z"
    }
   },
   "cell_type": "code",
   "outputs": [
    {
     "data": {
      "text/plain": [
       "Index(['b', 'd', 'e', 'f'], dtype='object')"
      ]
     },
     "execution_count": 39,
     "metadata": {},
     "output_type": "execute_result"
    }
   ],
   "execution_count": 39,
   "source": "s2.index",
   "id": "4f8c5adf880cadd0"
  },
  {
   "metadata": {},
   "cell_type": "markdown",
   "source": "#### Wczytywanie danych",
   "id": "a56b733b6f9139cf"
  },
  {
   "metadata": {
    "ExecuteTime": {
     "end_time": "2025-03-01T13:42:56.729508Z",
     "start_time": "2025-03-01T13:42:56.708693Z"
    }
   },
   "cell_type": "code",
   "outputs": [
    {
     "data": {
      "text/plain": [
       "a     1.0\n",
       "b    12.0\n",
       "c     3.0\n",
       "d    24.0\n",
       "e    30.0\n",
       "f    40.0\n",
       "dtype: float64"
      ]
     },
     "execution_count": 50,
     "metadata": {},
     "output_type": "execute_result"
    }
   ],
   "execution_count": 50,
   "source": "s1.add(s2, fill_value=0) #jeażeli sumujemy dwie serie, które nie mają wspólnych indexów, to w wyniku dostaniemy NaN, ale można dodać domyślną wartość 0",
   "id": "a255f6e4d8fd377"
  },
  {
   "metadata": {
    "ExecuteTime": {
     "end_time": "2025-03-01T14:49:29.383025Z",
     "start_time": "2025-03-01T14:49:29.328994Z"
    }
   },
   "cell_type": "code",
   "source": [
    "buffer = io.StringIO('''\n",
    "customer_id,date,amount,country\n",
    "001,2024/01/01,$100.50,US\n",
    "002,2024-01-05,$50.25,UK\n",
    ",2024-01-08,,$50.75\n",
    "004,2024-01-11,$75,Canada\n",
    "005,,,$0.00\n",
    "006,2024-01-14,$30.10,UK\n",
    "007,2024-01-16,$45.00,US\n",
    "008,2024-01-20,$60.75,\n",
    "''')\n",
    "\n",
    "\n",
    "df = (\n",
    "    pd.read_csv(buffer)\n",
    "    .assign(\n",
    "        date=lambda d: pd.to_datetime(d['date'], format='mixed').dt.day_name(),\n",
    "        amount=lambda d: pd.to_numeric(d[\"amount\"].fillna(d[\"country\"]).str.lstrip(\"$\")),\n",
    "        country=lambda d: d[\"country\"].astype(\"string[pyarrow]\").mask(lambda s: s.str.startswith(\"$\")),\n",
    ")\n",
    ")\n",
    "\n",
    "df\n"
   ],
   "id": "2ddfe37110f5014d",
   "outputs": [
    {
     "data": {
      "text/plain": [
       "   customer_id      date  amount country\n",
       "0          1.0    Monday  100.50      US\n",
       "1          2.0    Friday   50.25      UK\n",
       "2          NaN    Monday   50.75    <NA>\n",
       "3          4.0  Thursday   75.00  Canada\n",
       "4          5.0       NaN    0.00    <NA>\n",
       "5          6.0    Sunday   30.10      UK\n",
       "6          7.0   Tuesday   45.00      US\n",
       "7          8.0  Saturday   60.75    <NA>"
      ],
      "text/html": [
       "<div>\n",
       "<style scoped>\n",
       "    .dataframe tbody tr th:only-of-type {\n",
       "        vertical-align: middle;\n",
       "    }\n",
       "\n",
       "    .dataframe tbody tr th {\n",
       "        vertical-align: top;\n",
       "    }\n",
       "\n",
       "    .dataframe thead th {\n",
       "        text-align: right;\n",
       "    }\n",
       "</style>\n",
       "<table border=\"1\" class=\"dataframe\">\n",
       "  <thead>\n",
       "    <tr style=\"text-align: right;\">\n",
       "      <th></th>\n",
       "      <th>customer_id</th>\n",
       "      <th>date</th>\n",
       "      <th>amount</th>\n",
       "      <th>country</th>\n",
       "    </tr>\n",
       "  </thead>\n",
       "  <tbody>\n",
       "    <tr>\n",
       "      <th>0</th>\n",
       "      <td>1.0</td>\n",
       "      <td>Monday</td>\n",
       "      <td>100.50</td>\n",
       "      <td>US</td>\n",
       "    </tr>\n",
       "    <tr>\n",
       "      <th>1</th>\n",
       "      <td>2.0</td>\n",
       "      <td>Friday</td>\n",
       "      <td>50.25</td>\n",
       "      <td>UK</td>\n",
       "    </tr>\n",
       "    <tr>\n",
       "      <th>2</th>\n",
       "      <td>NaN</td>\n",
       "      <td>Monday</td>\n",
       "      <td>50.75</td>\n",
       "      <td>&lt;NA&gt;</td>\n",
       "    </tr>\n",
       "    <tr>\n",
       "      <th>3</th>\n",
       "      <td>4.0</td>\n",
       "      <td>Thursday</td>\n",
       "      <td>75.00</td>\n",
       "      <td>Canada</td>\n",
       "    </tr>\n",
       "    <tr>\n",
       "      <th>4</th>\n",
       "      <td>5.0</td>\n",
       "      <td>NaN</td>\n",
       "      <td>0.00</td>\n",
       "      <td>&lt;NA&gt;</td>\n",
       "    </tr>\n",
       "    <tr>\n",
       "      <th>5</th>\n",
       "      <td>6.0</td>\n",
       "      <td>Sunday</td>\n",
       "      <td>30.10</td>\n",
       "      <td>UK</td>\n",
       "    </tr>\n",
       "    <tr>\n",
       "      <th>6</th>\n",
       "      <td>7.0</td>\n",
       "      <td>Tuesday</td>\n",
       "      <td>45.00</td>\n",
       "      <td>US</td>\n",
       "    </tr>\n",
       "    <tr>\n",
       "      <th>7</th>\n",
       "      <td>8.0</td>\n",
       "      <td>Saturday</td>\n",
       "      <td>60.75</td>\n",
       "      <td>&lt;NA&gt;</td>\n",
       "    </tr>\n",
       "  </tbody>\n",
       "</table>\n",
       "</div>"
      ]
     },
     "execution_count": 72,
     "metadata": {},
     "output_type": "execute_result"
    }
   ],
   "execution_count": 72
  },
  {
   "metadata": {
    "ExecuteTime": {
     "end_time": "2025-03-01T14:32:21.584674Z",
     "start_time": "2025-03-01T14:32:21.570648Z"
    }
   },
   "cell_type": "code",
   "source": "df.dtypes",
   "id": "dfa6c852f0bd157c",
   "outputs": [
    {
     "data": {
      "text/plain": [
       "customer_id    float64\n",
       "date            object\n",
       "amount         float64\n",
       "country         object\n",
       "dtype: object"
      ]
     },
     "execution_count": 66,
     "metadata": {},
     "output_type": "execute_result"
    }
   ],
   "execution_count": 66
  },
  {
   "metadata": {
    "ExecuteTime": {
     "end_time": "2025-03-01T15:18:11.862518Z",
     "start_time": "2025-03-01T15:18:11.822204Z"
    }
   },
   "cell_type": "code",
   "source": [
    "from pandas import read_csv, DataFrame\n",
    "from io import StringIO\n",
    "from textwrap import dedent\n",
    "\n",
    "buffer = StringIO(dedent('''\n",
    "    device,upgrade_dates\n",
    "    device-1,2000-01-01,2000-02-01,2000-03-01\n",
    "    device-2,2000-01-01,2000-04-01\n",
    "    device-3,2000-01-01,2000-03-01,2000-05-01,2000-10-01\n",
    "    device-4,2000-01-01,2000-07-01,2000-09-01\n",
    "''').strip())\n",
    "\n",
    "# /df = pd.read_csv(buffer, on_bad_lines=\"skip\")\n",
    "\n",
    "def process(f):\n",
    "    f = (ln.strip().split(\",\") for ln in f)\n",
    "    yield next(f)\n",
    "    for line in f:\n",
    "        dev, *dates = line\n",
    "        yield dev, dates\n",
    "\n",
    "headers , *data = process(buffer)\n",
    "\n",
    "# headers = []\n",
    "# data = []\n",
    "# for index,ln in enumerate(buffer):\n",
    "#     row = ln.strip().split(\",\")\n",
    "#     if index == 0:\n",
    "#         headers.extend(row) # pierwsza linia to nagłówki\n",
    "#     else:\n",
    "#         device, *dates = row\n",
    "#         data.append([device, dates])\n",
    "#\n",
    "# print(headers, data)\n",
    "\n",
    "df = pd.DataFrame(data, columns=headers).explode(\"upgrade_dates\")# explode rozbija listę na pojedyncze wartości\n",
    "\n",
    "df.reset_index(drop=True, inplace=True)\n",
    "df"
   ],
   "id": "587a5c670b326264",
   "outputs": [
    {
     "data": {
      "text/plain": [
       "      device upgrade_dates\n",
       "0   device-1    2000-01-01\n",
       "1   device-1    2000-02-01\n",
       "2   device-1    2000-03-01\n",
       "3   device-2    2000-01-01\n",
       "4   device-2    2000-04-01\n",
       "5   device-3    2000-01-01\n",
       "6   device-3    2000-03-01\n",
       "7   device-3    2000-05-01\n",
       "8   device-3    2000-10-01\n",
       "9   device-4    2000-01-01\n",
       "10  device-4    2000-07-01\n",
       "11  device-4    2000-09-01"
      ],
      "text/html": [
       "<div>\n",
       "<style scoped>\n",
       "    .dataframe tbody tr th:only-of-type {\n",
       "        vertical-align: middle;\n",
       "    }\n",
       "\n",
       "    .dataframe tbody tr th {\n",
       "        vertical-align: top;\n",
       "    }\n",
       "\n",
       "    .dataframe thead th {\n",
       "        text-align: right;\n",
       "    }\n",
       "</style>\n",
       "<table border=\"1\" class=\"dataframe\">\n",
       "  <thead>\n",
       "    <tr style=\"text-align: right;\">\n",
       "      <th></th>\n",
       "      <th>device</th>\n",
       "      <th>upgrade_dates</th>\n",
       "    </tr>\n",
       "  </thead>\n",
       "  <tbody>\n",
       "    <tr>\n",
       "      <th>0</th>\n",
       "      <td>device-1</td>\n",
       "      <td>2000-01-01</td>\n",
       "    </tr>\n",
       "    <tr>\n",
       "      <th>1</th>\n",
       "      <td>device-1</td>\n",
       "      <td>2000-02-01</td>\n",
       "    </tr>\n",
       "    <tr>\n",
       "      <th>2</th>\n",
       "      <td>device-1</td>\n",
       "      <td>2000-03-01</td>\n",
       "    </tr>\n",
       "    <tr>\n",
       "      <th>3</th>\n",
       "      <td>device-2</td>\n",
       "      <td>2000-01-01</td>\n",
       "    </tr>\n",
       "    <tr>\n",
       "      <th>4</th>\n",
       "      <td>device-2</td>\n",
       "      <td>2000-04-01</td>\n",
       "    </tr>\n",
       "    <tr>\n",
       "      <th>5</th>\n",
       "      <td>device-3</td>\n",
       "      <td>2000-01-01</td>\n",
       "    </tr>\n",
       "    <tr>\n",
       "      <th>6</th>\n",
       "      <td>device-3</td>\n",
       "      <td>2000-03-01</td>\n",
       "    </tr>\n",
       "    <tr>\n",
       "      <th>7</th>\n",
       "      <td>device-3</td>\n",
       "      <td>2000-05-01</td>\n",
       "    </tr>\n",
       "    <tr>\n",
       "      <th>8</th>\n",
       "      <td>device-3</td>\n",
       "      <td>2000-10-01</td>\n",
       "    </tr>\n",
       "    <tr>\n",
       "      <th>9</th>\n",
       "      <td>device-4</td>\n",
       "      <td>2000-01-01</td>\n",
       "    </tr>\n",
       "    <tr>\n",
       "      <th>10</th>\n",
       "      <td>device-4</td>\n",
       "      <td>2000-07-01</td>\n",
       "    </tr>\n",
       "    <tr>\n",
       "      <th>11</th>\n",
       "      <td>device-4</td>\n",
       "      <td>2000-09-01</td>\n",
       "    </tr>\n",
       "  </tbody>\n",
       "</table>\n",
       "</div>"
      ]
     },
     "execution_count": 95,
     "metadata": {},
     "output_type": "execute_result"
    }
   ],
   "execution_count": 95
  },
  {
   "metadata": {},
   "cell_type": "code",
   "outputs": [],
   "execution_count": null,
   "source": "",
   "id": "efa9d0460fb68ea7"
  }
 ],
 "metadata": {
  "kernelspec": {
   "display_name": "Python 3",
   "language": "python",
   "name": "python3"
  },
  "language_info": {
   "codemirror_mode": {
    "name": "ipython",
    "version": 2
   },
   "file_extension": ".py",
   "mimetype": "text/x-python",
   "name": "python",
   "nbconvert_exporter": "python",
   "pygments_lexer": "ipython2",
   "version": "2.7.6"
  }
 },
 "nbformat": 4,
 "nbformat_minor": 5
}
